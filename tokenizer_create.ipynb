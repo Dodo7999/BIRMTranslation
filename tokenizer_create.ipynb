{
 "cells": [
  {
   "cell_type": "code",
   "execution_count": 2,
   "id": "7fce67c6-49fa-46cd-a8cf-f7c6b1c3009f",
   "metadata": {},
   "outputs": [
    {
     "name": "stderr",
     "output_type": "stream",
     "text": [
      "C:\\ProgramData\\anaconda3\\Lib\\site-packages\\tqdm\\auto.py:21: TqdmWarning: IProgress not found. Please update jupyter and ipywidgets. See https://ipywidgets.readthedocs.io/en/stable/user_install.html\n",
      "  from .autonotebook import tqdm as notebook_tqdm\n"
     ]
    }
   ],
   "source": [
    "import os\n",
    "os.environ[\"TOKENIZERS_PARALLELISM\"] = \"true\"\n",
    "from src.rulm import *\n",
    "from datasets import load_dataset"
   ]
  },
  {
   "cell_type": "code",
   "execution_count": 3,
   "id": "fd8ddf86-fbeb-4247-8479-27011e4768ff",
   "metadata": {},
   "outputs": [],
   "source": [
    "dataset = RuLMDataset(base_path=\"data/rulm\")"
   ]
  },
  {
   "cell_type": "code",
   "execution_count": 4,
   "id": "4fa8f9e9-9535-4256-8fe7-9cfaecb06a5f",
   "metadata": {},
   "outputs": [],
   "source": [
    "dataset.download_and_prepare()"
   ]
  },
  {
   "cell_type": "code",
   "execution_count": null,
   "id": "7271f969-97ec-4827-bffd-388393d17696",
   "metadata": {},
   "outputs": [],
   "source": []
  },
  {
   "cell_type": "code",
   "execution_count": null,
   "id": "601ec402-0629-4246-83a5-f7a99d3ee78c",
   "metadata": {},
   "outputs": [],
   "source": []
  },
  {
   "cell_type": "code",
   "execution_count": 5,
   "id": "049d899f-7b1a-41a4-87ef-3430e6138567",
   "metadata": {},
   "outputs": [],
   "source": [
    "train_data = dataset.as_dataset(split='train[:10%]')"
   ]
  },
  {
   "cell_type": "code",
   "execution_count": 6,
   "id": "e6be4465-ebb5-4af3-9aa6-d7cf2483ef99",
   "metadata": {},
   "outputs": [
    {
     "data": {
      "text/plain": [
       "Dataset({\n",
       "    features: ['text', 'meta'],\n",
       "    num_rows: 1481103\n",
       "})"
      ]
     },
     "execution_count": 6,
     "metadata": {},
     "output_type": "execute_result"
    }
   ],
   "source": [
    "train_data"
   ]
  },
  {
   "cell_type": "code",
   "execution_count": 9,
   "id": "b5187f11-0c51-4391-aa0f-b0c0430962f4",
   "metadata": {},
   "outputs": [
    {
     "ename": "KeyError",
     "evalue": "\"Column train not in the dataset. Current columns in the dataset: ['text', 'meta']\"",
     "output_type": "error",
     "traceback": [
      "\u001b[1;31m---------------------------------------------------------------------------\u001b[0m",
      "\u001b[1;31mKeyError\u001b[0m                                  Traceback (most recent call last)",
      "Cell \u001b[1;32mIn[9], line 1\u001b[0m\n\u001b[1;32m----> 1\u001b[0m train_data \u001b[38;5;241m=\u001b[39m data[\u001b[38;5;124m\"\u001b[39m\u001b[38;5;124mtrain\u001b[39m\u001b[38;5;124m\"\u001b[39m]\n",
      "File \u001b[1;32m~\\AppData\\Roaming\\Python\\Python311\\site-packages\\datasets\\arrow_dataset.py:2780\u001b[0m, in \u001b[0;36mDataset.__getitem__\u001b[1;34m(self, key)\u001b[0m\n\u001b[0;32m   2778\u001b[0m \u001b[38;5;28;01mdef\u001b[39;00m \u001b[38;5;21m__getitem__\u001b[39m(\u001b[38;5;28mself\u001b[39m, key):  \u001b[38;5;66;03m# noqa: F811\u001b[39;00m\n\u001b[0;32m   2779\u001b[0m \u001b[38;5;250m    \u001b[39m\u001b[38;5;124;03m\"\"\"Can be used to index columns (by string names) or rows (by integer index or iterable of indices or bools).\"\"\"\u001b[39;00m\n\u001b[1;32m-> 2780\u001b[0m     \u001b[38;5;28;01mreturn\u001b[39;00m \u001b[38;5;28mself\u001b[39m\u001b[38;5;241m.\u001b[39m_getitem(key)\n",
      "File \u001b[1;32m~\\AppData\\Roaming\\Python\\Python311\\site-packages\\datasets\\arrow_dataset.py:2764\u001b[0m, in \u001b[0;36mDataset._getitem\u001b[1;34m(self, key, **kwargs)\u001b[0m\n\u001b[0;32m   2762\u001b[0m format_kwargs \u001b[38;5;241m=\u001b[39m format_kwargs \u001b[38;5;28;01mif\u001b[39;00m format_kwargs \u001b[38;5;129;01mis\u001b[39;00m \u001b[38;5;129;01mnot\u001b[39;00m \u001b[38;5;28;01mNone\u001b[39;00m \u001b[38;5;28;01melse\u001b[39;00m {}\n\u001b[0;32m   2763\u001b[0m formatter \u001b[38;5;241m=\u001b[39m get_formatter(format_type, features\u001b[38;5;241m=\u001b[39m\u001b[38;5;28mself\u001b[39m\u001b[38;5;241m.\u001b[39m_info\u001b[38;5;241m.\u001b[39mfeatures, \u001b[38;5;241m*\u001b[39m\u001b[38;5;241m*\u001b[39mformat_kwargs)\n\u001b[1;32m-> 2764\u001b[0m pa_subtable \u001b[38;5;241m=\u001b[39m query_table(\u001b[38;5;28mself\u001b[39m\u001b[38;5;241m.\u001b[39m_data, key, indices\u001b[38;5;241m=\u001b[39m\u001b[38;5;28mself\u001b[39m\u001b[38;5;241m.\u001b[39m_indices)\n\u001b[0;32m   2765\u001b[0m formatted_output \u001b[38;5;241m=\u001b[39m format_table(\n\u001b[0;32m   2766\u001b[0m     pa_subtable, key, formatter\u001b[38;5;241m=\u001b[39mformatter, format_columns\u001b[38;5;241m=\u001b[39mformat_columns, output_all_columns\u001b[38;5;241m=\u001b[39moutput_all_columns\n\u001b[0;32m   2767\u001b[0m )\n\u001b[0;32m   2768\u001b[0m \u001b[38;5;28;01mreturn\u001b[39;00m formatted_output\n",
      "File \u001b[1;32m~\\AppData\\Roaming\\Python\\Python311\\site-packages\\datasets\\formatting\\formatting.py:590\u001b[0m, in \u001b[0;36mquery_table\u001b[1;34m(table, key, indices)\u001b[0m\n\u001b[0;32m    588\u001b[0m         _raise_bad_key_type(key)\n\u001b[0;32m    589\u001b[0m \u001b[38;5;28;01mif\u001b[39;00m \u001b[38;5;28misinstance\u001b[39m(key, \u001b[38;5;28mstr\u001b[39m):\n\u001b[1;32m--> 590\u001b[0m     _check_valid_column_key(key, table\u001b[38;5;241m.\u001b[39mcolumn_names)\n\u001b[0;32m    591\u001b[0m \u001b[38;5;28;01melse\u001b[39;00m:\n\u001b[0;32m    592\u001b[0m     size \u001b[38;5;241m=\u001b[39m indices\u001b[38;5;241m.\u001b[39mnum_rows \u001b[38;5;28;01mif\u001b[39;00m indices \u001b[38;5;129;01mis\u001b[39;00m \u001b[38;5;129;01mnot\u001b[39;00m \u001b[38;5;28;01mNone\u001b[39;00m \u001b[38;5;28;01melse\u001b[39;00m table\u001b[38;5;241m.\u001b[39mnum_rows\n",
      "File \u001b[1;32m~\\AppData\\Roaming\\Python\\Python311\\site-packages\\datasets\\formatting\\formatting.py:527\u001b[0m, in \u001b[0;36m_check_valid_column_key\u001b[1;34m(key, columns)\u001b[0m\n\u001b[0;32m    525\u001b[0m \u001b[38;5;28;01mdef\u001b[39;00m \u001b[38;5;21m_check_valid_column_key\u001b[39m(key: \u001b[38;5;28mstr\u001b[39m, columns: List[\u001b[38;5;28mstr\u001b[39m]) \u001b[38;5;241m-\u001b[39m\u001b[38;5;241m>\u001b[39m \u001b[38;5;28;01mNone\u001b[39;00m:\n\u001b[0;32m    526\u001b[0m     \u001b[38;5;28;01mif\u001b[39;00m key \u001b[38;5;129;01mnot\u001b[39;00m \u001b[38;5;129;01min\u001b[39;00m columns:\n\u001b[1;32m--> 527\u001b[0m         \u001b[38;5;28;01mraise\u001b[39;00m \u001b[38;5;167;01mKeyError\u001b[39;00m(\u001b[38;5;124mf\u001b[39m\u001b[38;5;124m\"\u001b[39m\u001b[38;5;124mColumn \u001b[39m\u001b[38;5;132;01m{\u001b[39;00mkey\u001b[38;5;132;01m}\u001b[39;00m\u001b[38;5;124m not in the dataset. Current columns in the dataset: \u001b[39m\u001b[38;5;132;01m{\u001b[39;00mcolumns\u001b[38;5;132;01m}\u001b[39;00m\u001b[38;5;124m\"\u001b[39m)\n",
      "\u001b[1;31mKeyError\u001b[0m: \"Column train not in the dataset. Current columns in the dataset: ['text', 'meta']\""
     ]
    }
   ],
   "source": [
    "train_data = data[\"train\"]"
   ]
  },
  {
   "cell_type": "code",
   "execution_count": 7,
   "id": "566a188a-972e-47d9-8840-d836f682468d",
   "metadata": {},
   "outputs": [],
   "source": [
    "train_data = train_data.remove_columns([                                                             \n",
    "        col for col in train_data.column_names if col != \"text\"                                        \n",
    "    ])"
   ]
  },
  {
   "cell_type": "code",
   "execution_count": 8,
   "id": "d0279935-4070-4862-b9c1-06f74fbf71a4",
   "metadata": {},
   "outputs": [
    {
     "name": "stdout",
     "output_type": "stream",
     "text": [
      "{'text': 'Вооруженные силы Таиланда в ходе штурма укреплений оппозиционеров в центре Бангкока прорвали баррикады \"краснорубашечников\", сообщает Reuters. По последним данным, в ходе столкновений сторонников бывшего премьера Таксина Чинавата с военными погибли пять человек, в том числе репортер из Италии. По данным официальных властей Таиланда, которые приводит AFP, лагерь оппозиции покинули практически все идеологи восстания. Тем не менее, столкновения властей с протестантами продолжаются. Число пострадавших составляет десять человек, как минимум двое из них - иностранные репортеры. Точных сведений о личности погибших, за исключением информации о скончавшемся по пути в больницу журналисте, не поступало. Предположительно, двое из них являются \"краснорубашечниками\". Источник AFP в полиции рассказал, что военным поступил приказ вести огонь по протестующим. Штурм укреплений \"краснорубашечников\" начался утром в среду, 19 мая. Днем ранее правительство Таиланда отказалось от предложения оппозиционеров начать переговоры, и к захваченному сторонниками Чинавата району прибыло армейское подкрепление и военная техника. Между тем Таксин Чинават в среду выступил с заявлением о своей непричастности к организации выступлений оппозиционеров и призвал властей прекратить огонь. Он также опроверг слухи о том, что переговоры с правительством Апхисита Ветчачивы были сорваны по его инициативе.'}\n"
     ]
    }
   ],
   "source": [
    "print (train_data[ 1000 ])"
   ]
  },
  {
   "cell_type": "code",
   "execution_count": 9,
   "id": "2ce82ae6-ec91-433c-a8e3-a5974f81c776",
   "metadata": {},
   "outputs": [],
   "source": [
    "def batch_iterator(dataset, batch_size=1_000):                                                       \n",
    "    for batch in dataset.iter(batch_size=batch_size):                                                \n",
    "        yield batch[\"text\"]"
   ]
  },
  {
   "cell_type": "code",
   "execution_count": 10,
   "id": "b7b7dafc-ea83-4650-b3d7-c6d2fae45522",
   "metadata": {},
   "outputs": [],
   "source": [
    "from transformers import AutoTokenizer\n",
    "\n",
    "old_tokenizer = AutoTokenizer.from_pretrained(\"models/qwen/\", local_files_only=True)"
   ]
  },
  {
   "cell_type": "code",
   "execution_count": 11,
   "id": "bc068842-3e43-49d9-97c1-d630087674ff",
   "metadata": {},
   "outputs": [
    {
     "data": {
      "text/plain": [
       "['def',\n",
       " 'Ġadd',\n",
       " '_numbers',\n",
       " '(a',\n",
       " ',',\n",
       " 'Ġb',\n",
       " '):Ċ',\n",
       " 'ĠĠĠ',\n",
       " 'Ġ\"\"\"',\n",
       " 'Add',\n",
       " 'Ġthe',\n",
       " 'Ġtwo',\n",
       " 'Ġnumbers',\n",
       " 'Ġ`',\n",
       " 'a',\n",
       " '`',\n",
       " 'Ġand',\n",
       " 'Ġ`',\n",
       " 'b',\n",
       " '`',\n",
       " '.\"\"\"Ċ',\n",
       " 'ĠĠĠ',\n",
       " 'Ġreturn',\n",
       " 'Ġa',\n",
       " 'Ġ+',\n",
       " 'Ġb']"
      ]
     },
     "execution_count": 11,
     "metadata": {},
     "output_type": "execute_result"
    }
   ],
   "source": [
    "example = '''def add_numbers(a, b):\n",
    "    \"\"\"Add the two numbers `a` and `b`.\"\"\"\n",
    "    return a + b'''\n",
    "\n",
    "tokens = old_tokenizer.tokenize(example)\n",
    "tokens"
   ]
  },
  {
   "cell_type": "code",
   "execution_count": 12,
   "id": "2b020315-592e-477f-a7d8-2dbc77a76645",
   "metadata": {},
   "outputs": [],
   "source": [
    "tokenizer = old_tokenizer.train_new_from_iterator(                                        \n",
    "        batch_iterator(train_data),                                                                    \n",
    "        vocab_size=32_768,                                                                       \n",
    "    ) "
   ]
  },
  {
   "cell_type": "code",
   "execution_count": 13,
   "id": "d3f3c132-4b58-4da0-b76a-6ec686dec83c",
   "metadata": {},
   "outputs": [
    {
     "data": {
      "text/plain": [
       "('qwen_32768\\\\tokenizer_config.json',\n",
       " 'qwen_32768\\\\special_tokens_map.json',\n",
       " 'qwen_32768\\\\vocab.json',\n",
       " 'qwen_32768\\\\merges.txt',\n",
       " 'qwen_32768\\\\added_tokens.json',\n",
       " 'qwen_32768\\\\tokenizer.json')"
      ]
     },
     "execution_count": 13,
     "metadata": {},
     "output_type": "execute_result"
    }
   ],
   "source": [
    "tokenizer.save_pretrained(\"qwen_32768\")"
   ]
  },
  {
   "cell_type": "code",
   "execution_count": 14,
   "id": "1ab77771-7c3a-4c1f-bc71-ea0fcd89ad78",
   "metadata": {},
   "outputs": [
    {
     "data": {
      "text/plain": [
       "['def',\n",
       " 'Ġadd',\n",
       " '_n',\n",
       " 'umb',\n",
       " 'ers',\n",
       " '(a',\n",
       " ',',\n",
       " 'Ġb',\n",
       " '):Ċ',\n",
       " 'ĠĠĠ',\n",
       " 'Ġ\"',\n",
       " '\"\"',\n",
       " 'Add',\n",
       " 'Ġthe',\n",
       " 'Ġt',\n",
       " 'wo',\n",
       " 'Ġn',\n",
       " 'umb',\n",
       " 'ers',\n",
       " 'Ġ`',\n",
       " 'a',\n",
       " '`',\n",
       " 'Ġand',\n",
       " 'Ġ`',\n",
       " 'b',\n",
       " '`',\n",
       " '.\"',\n",
       " '\"',\n",
       " '\"Ċ',\n",
       " 'ĠĠĠ',\n",
       " 'Ġreturn',\n",
       " 'Ġa',\n",
       " 'Ġ+',\n",
       " 'Ġb']"
      ]
     },
     "execution_count": 14,
     "metadata": {},
     "output_type": "execute_result"
    }
   ],
   "source": [
    "example = '''def add_numbers(a, b):\n",
    "    \"\"\"Add the two numbers `a` and `b`.\"\"\"\n",
    "    return a + b'''\n",
    "\n",
    "tokens = tokenizer.tokenize(example)\n",
    "tokens"
   ]
  },
  {
   "cell_type": "code",
   "execution_count": null,
   "id": "7e3a28a3-8b20-4b35-a400-1212d2f2e8e4",
   "metadata": {},
   "outputs": [],
   "source": []
  }
 ],
 "metadata": {
  "kernelspec": {
   "display_name": "Python 3 (ipykernel)",
   "language": "python",
   "name": "python3"
  },
  "language_info": {
   "codemirror_mode": {
    "name": "ipython",
    "version": 3
   },
   "file_extension": ".py",
   "mimetype": "text/x-python",
   "name": "python",
   "nbconvert_exporter": "python",
   "pygments_lexer": "ipython3",
   "version": "3.11.5"
  }
 },
 "nbformat": 4,
 "nbformat_minor": 5
}
